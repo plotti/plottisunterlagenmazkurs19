{
 "cells": [
  {
   "cell_type": "markdown",
   "metadata": {},
   "source": [
    "# Daten umwandeln - Strings und Zahlen\n",
    "Daten umzuwandeln ist wahrscheinlich, das was du am meisten machen wirst. Deshalb ist es praktisch es schon jetzt kennen zu lernen. "
   ]
  },
  {
   "cell_type": "markdown",
   "metadata": {},
   "source": [
    "### Einen String in eine Zahl umwandeln\n",
    "Dazu wenden wir den **int()**-Befehl auf einen String (direkt oder in einer Variable gespeichert) an: **int(string)**\n",
    "\n",
    "int steht für Integer, den englischen Begriff für Ganzzahl."
   ]
  },
  {
   "cell_type": "code",
   "execution_count": 2,
   "metadata": {},
   "outputs": [
    {
     "name": "stdout",
     "output_type": "stream",
     "text": [
      "56\n"
     ]
    }
   ],
   "source": [
    "a = \"5\"\n",
    "b = \"6\"\n",
    "\n",
    "#print(int(a) + int(b))\n",
    "print(a+b)"
   ]
  },
  {
   "cell_type": "markdown",
   "metadata": {},
   "source": [
    "### Einen String in eine Kommazahl umwandeln\n",
    "Dazu wenden wir den **float()**-Befehl auf einen String (direkt oder in einer Variable gespeichert) an: **float(string)** \n",
    " \n",
    " \n",
    "Der Name float kommt daher, dass man Kommazahlen auch Fließkommazahlen nennt."
   ]
  },
  {
   "cell_type": "code",
   "execution_count": 3,
   "metadata": {},
   "outputs": [
    {
     "name": "stdout",
     "output_type": "stream",
     "text": [
      "12.1\n"
     ]
    }
   ],
   "source": [
    "a = \"5.5\"\n",
    "b = \"6.6\"\n",
    "\n",
    "print(float(a) + float(b))"
   ]
  },
  {
   "cell_type": "code",
   "execution_count": 8,
   "metadata": {},
   "outputs": [],
   "source": [
    "float(\"13.12312312\")+3"
   ]
  },
  {
   "cell_type": "code",
   "execution_count": 18,
   "metadata": {},
   "outputs": [
    {
     "data": {
      "text/plain": [
       "int"
      ]
     },
     "execution_count": 18,
     "metadata": {},
     "output_type": "execute_result"
    }
   ],
   "source": [
    "type(3)"
   ]
  },
  {
   "cell_type": "markdown",
   "metadata": {},
   "source": [
    "### Eine Zahl in einen String umwandeln\n",
    "Dazu wenden wir den **str()**-Befehl auf eine Ganzzahl oder Kommazahl an (direkt oder in einer Variable gespeichert): **str(zahl)**"
   ]
  },
  {
   "cell_type": "code",
   "execution_count": null,
   "metadata": {},
   "outputs": [],
   "source": [
    "age = 21\n",
    "print(\"Ich bin \" + str(age) + \" Jahre alt\")"
   ]
  },
  {
   "cell_type": "markdown",
   "metadata": {},
   "source": [
    "## Übung\n",
    "\n",
    "- Speichere  die Zahl PI mit 4 Nachkommastellen in der Variable a. \n",
    "- Multipliziere sie mit 2. \n",
    "- Wandle die Zahl in einen String um und gebe sie aus als Satz: \"Das doppelter der Zahl Pi ist: a\"\n",
    "\n"
   ]
  },
  {
   "cell_type": "code",
   "execution_count": 27,
   "metadata": {},
   "outputs": [
    {
     "name": "stdout",
     "output_type": "stream",
     "text": [
      "Das doppelte der Zahl Pi ist: 6.283\n"
     ]
    }
   ],
   "source": [
    "pi = 3.1415\n",
    "doublepi = pi*2\n",
    "print(\"Das doppelte der Zahl Pi ist: \" + str(doublepi))"
   ]
  },
  {
   "cell_type": "markdown",
   "metadata": {},
   "source": [
    "# Daten umwandeln - Listen und Strings\n",
    "Wir können mit Python Elemente zu einer Liste zusammenfügen oder eine Liste in einzelne Elemente zerlegen."
   ]
  },
  {
   "cell_type": "markdown",
   "metadata": {},
   "source": [
    "### Strings aus einer Liste zu einem String zusammenfügen\n",
    "\n",
    "Mit dem  **join()**-Befehl, der auf einen String angewendet wird, verbinden wir die Strings aus einer Liste zu einem neuen String: **string.join(liste)**\n",
    "\n",
    "Der String, auf den join() angewendet wird, bildet dabei die Nahtstelle: Dieser String wird als Verbindung zwischen den einzelnen Listenelementen im neuen String gesetzt."
   ]
  },
  {
   "cell_type": "code",
   "execution_count": 35,
   "metadata": {
    "scrolled": true
   },
   "outputs": [],
   "source": [
    "students = [\"Max\", \"Monika\", \"Erik\", \"Franziska\"]\n",
    "a = \" \".join(students)"
   ]
  },
  {
   "cell_type": "code",
   "execution_count": 39,
   "metadata": {},
   "outputs": [
    {
     "name": "stdout",
     "output_type": "stream",
     "text": [
      "An unserer Uni studieren: Max, Monika, Erik, Franziska\n"
     ]
    }
   ],
   "source": [
    "students_as_string = \", \".join(students)\n",
    "print(\"An unserer Uni studieren: \" + students_as_string)"
   ]
  },
  {
   "cell_type": "code",
   "execution_count": 43,
   "metadata": {},
   "outputs": [
    {
     "name": "stdout",
     "output_type": "stream",
     "text": [
      "An unserer Uni studieren: Max, Monika, Erik, Franziska\n"
     ]
    }
   ],
   "source": [
    "print(\"An unserer Uni studieren: \" + students_as_string)"
   ]
  },
  {
   "cell_type": "code",
   "execution_count": 44,
   "metadata": {},
   "outputs": [
    {
     "name": "stdout",
     "output_type": "stream",
     "text": [
      "Max - Monika - Erik - Franziska\n"
     ]
    }
   ],
   "source": [
    "students = [\"Max\", \"Monika\", \"Erik\", \"Franziska\"]\n",
    "print(\" - \".join(students))"
   ]
  },
  {
   "cell_type": "markdown",
   "metadata": {},
   "source": [
    "### Einen String in eine Liste aufspalten\n",
    "\n",
    "Mit dem **split()**-Befehl, der auf einen String angewendet wird, wird dieser String an seinen Leerzeichen aufgespalten und die daraus resultierenden Einzelstrings in einer Liste gespeichert: **string.split()**"
   ]
  },
  {
   "cell_type": "code",
   "execution_count": 45,
   "metadata": {},
   "outputs": [],
   "source": [
    "i = \"Max, Monika, Erik, Franziska\""
   ]
  },
  {
   "cell_type": "code",
   "execution_count": 46,
   "metadata": {
    "scrolled": true
   },
   "outputs": [
    {
     "name": "stdout",
     "output_type": "stream",
     "text": [
      "['Max,', 'Monika,', 'Erik,', 'Franziska']\n"
     ]
    }
   ],
   "source": [
    "print(i.split())"
   ]
  },
  {
   "cell_type": "markdown",
   "metadata": {},
   "source": [
    "Wir können sogar noch genauer festlegen, an welchen Stellen der String von split() aufgespaltet werden soll."
   ]
  },
  {
   "cell_type": "code",
   "execution_count": 47,
   "metadata": {
    "scrolled": true
   },
   "outputs": [
    {
     "name": "stdout",
     "output_type": "stream",
     "text": [
      "['Max', 'Monika', 'Erik', 'Franziska']\n"
     ]
    }
   ],
   "source": [
    "print(i.split(\", \"))"
   ]
  },
  {
   "cell_type": "code",
   "execution_count": 48,
   "metadata": {},
   "outputs": [
    {
     "data": {
      "text/plain": [
       "['Max, Monika, Erik, Franziska']"
      ]
     },
     "execution_count": 48,
     "metadata": {},
     "output_type": "execute_result"
    }
   ],
   "source": [
    "i.split(\"-\")"
   ]
  },
  {
   "cell_type": "code",
   "execution_count": 49,
   "metadata": {},
   "outputs": [
    {
     "name": "stdout",
     "output_type": "stream",
     "text": [
      "['M', 'x, Monik', ', Erik, Fr', 'nzisk', '']\n"
     ]
    }
   ],
   "source": [
    "print(i.split(\"a\"))"
   ]
  },
  {
   "cell_type": "markdown",
   "metadata": {},
   "source": [
    "Insbesondere können wir auch mehrere der Befehle, die wir schon kennen gelernt haben, miteinander kombinieren:"
   ]
  },
  {
   "cell_type": "code",
   "execution_count": 52,
   "metadata": {},
   "outputs": [
    {
     "data": {
      "text/plain": [
       "['plotti', 'was', 'here']"
      ]
     },
     "execution_count": 52,
     "metadata": {},
     "output_type": "execute_result"
    }
   ],
   "source": [
    "a = \"plotti was here\"\n",
    "woerter = a.split()\n",
    "woerter"
   ]
  },
  {
   "cell_type": "code",
   "execution_count": 50,
   "metadata": {},
   "outputs": [
    {
     "name": "stdout",
     "output_type": "stream",
     "text": [
      "7\n"
     ]
    }
   ],
   "source": [
    "# Hier zählen wir die Anzahl der Wörter des Satzes s\n",
    "\n",
    "s = \"Ich bin ein Satz mit vielen Wörtern\"\n",
    "print(len(s.split()))"
   ]
  },
  {
   "cell_type": "markdown",
   "metadata": {},
   "source": [
    "## Übung 1\n",
    "- Nimm einen Artikel aus 20 minuten. \n",
    "- Kopiere ihn in einen String. \n",
    "- Zerlege den Artikel in Wörter. \n",
    "- Zähle die Wörter. \n",
    "- Gib aus \" Der Artikel xyz enthält x wörter\" "
   ]
  },
  {
   "cell_type": "code",
   "execution_count": 62,
   "metadata": {},
   "outputs": [
    {
     "name": "stdout",
     "output_type": "stream",
     "text": [
      "Der Artikel 'Schweizer sind nicht mehr die Reichsten der Welt' enthält 433 Wörter.\n"
     ]
    }
   ],
   "source": [
    "text = '''\n",
    "Die Einwohner der Schweiz sind weltweit nicht mehr am reichsten. Sie wurden abgelöst von den US-Amerikanern. Erstmals sind 2018 die Vermögen sowohl in den Industrie- als auch in den Schwellenländern zurückgegangen.\n",
    "\n",
    "Im Schnitt besitzt jede Person in der Schweiz netto ein Vermögen von 173'800 Euro. Das sind 1,5 Prozent weniger als im Vorjahr, wie aus dem am Mittwoch veröffentlichten «Global Wealth Report» des Versicherers Allianz hervorgeht. 2018 wurde noch ein Plus von 7,6 Prozent erzielt.\n",
    "\n",
    "Von den 53 untersuchten Ländern liegt die Schweiz damit nur noch an zweiter Stelle. An der Spitze des Rankings wurden sie wieder von den US-Amerikanern abgelöst, die durchschnittlich 184'400 Euro auf der hohen Kante haben. Als Grund dafür nennt Allianz allerdings insbesondere den stärkeren Dollar.\n",
    "\n",
    "Zu den drittplatzierten Singapurern, die auf 100'400 Euro kommen, besteht bereits ein beträchtlicher Abstand. Die Deutschen folgen mit 52'900 Euro erst auf Rang 18.\n",
    "\n",
    "Rekordhohe Verschuldung\n",
    "\n",
    "In einer anderen Rechnung sind die Schweizer Haushalte aber immer noch mit Abstand einsam an der Spitze: Die Verschuldung von gut 90'000 Euro wird in keinem anderen Land übertroffen. Das sind 2,8 Prozent mehr als im Jahr zuvor. 2018 legten die Verbindlichkeiten der Haushalte weltweit um 5,7 Prozent zu.\n",
    "\n",
    "Die Schuldenstandsquote, welche die Verbindlichkeiten ins Verhältnis zum Bruttoinlandprodukt setzt, lag damit bei 128 Prozent. Dies ist ein absoluter Spitzenwert: Weltweit sind nur die Dänen und Australier noch stärker verschuldet, der westeuropäische Durchschnitt liegt bei 74,1 Prozent.\n",
    "\n",
    "Betrachtet man die Entwicklung der Vermögen unter Berücksichtigung der Schulden, zeigt sich ein etwas besseres Bild: Die sogenannten Bruttogeldvermögen haben im Vergleich zur Vorjahresperiode um 0,1 Prozent abgenommen. Damit befinden sich die Schweizerinnen und Schweizer in guter Gesellschaft.\n",
    "\n",
    "Global schrumpften die Bruttovermögen der privaten Haushalte nämlich ebenfalls um 0,1 Prozent und stagnierten bei 172,5 Billionen Euro. Der Schuldige ist schnell gefunden: 2018 gaben die Aktienkurse weltweit um 12 Prozent nach - was direkt auf die Vermögensentwicklung durchschlug.\n",
    "\n",
    "Der Handelskonflikt zwischen den USA und China, die endlose «Brexit-Saga» und zunehmende geopolitische Spannungen forderten ihren Tribut, resümiert die Allianz.\n",
    "\n",
    "Konvergenz kommt zum Stillstand\n",
    "\n",
    "Die Bruttogeldvermögen in den Schwellenländern sind sogar um 0,4 Prozent zurückgegangen. Das erste Mal, seit der Report erhoben werde. Massgeblich dazu beigetragen habe die schwache Entwicklung in China, wo die Vermögen um 3,4 Prozent fielen. Aber auch andere wichtige Schwellenländer wie Mexiko und Südafrika mussten 2018 empfindliche Einbussen verkraften.\n",
    "\n",
    "Dies ist laut Allianz eine bemerkenswerte Trendumkehr. Denn im Durchschnitt der letzten beiden Jahrzehnte lag der Wachstumsvorsprung der Schwellenländer bei 11 Prozentpunkten. Es scheine so, als ob die Handelsstreitigkeiten dem Aufholprozess der ärmeren Länder ein jähes Ende gesetzt hätten. Die Konvergenz zwischen armen und reichen Ländern sei damit zum Stillstand gekommen.\n",
    "'''\n",
    "woerter = text.split(\" \")\n",
    "print(\"Der Artikel 'Schweizer sind nicht mehr die Reichsten der Welt' enthält \" + str(len(woerter)) + \" Wörter.\")"
   ]
  },
  {
   "cell_type": "markdown",
   "metadata": {},
   "source": [
    "## Übung 2 \n",
    "\n",
    "- Lass dir vom Nachbarn seine Email geben. \n",
    "- Wenn die Mailadresse _Max-Mustermann@gmail.com_ lautet, sollst du _Max-Mustermann_ ausgeben; wenn die Mailadresse _KlaraKlarnamen@uni-berlin.de_ heisst, sollst du _KlaraKlarnamen_ ausgeben."
   ]
  },
  {
   "cell_type": "code",
   "execution_count": 80,
   "metadata": {},
   "outputs": [
    {
     "data": {
      "text/plain": [
       "['w', 'u', 'r', 's', 't']"
      ]
     },
     "execution_count": 80,
     "metadata": {},
     "output_type": "execute_result"
    }
   ],
   "source": [
    "plotti = \"wurst\"\n",
    "a = [plotti]\n",
    "a[0]\n",
    "list(\"wurst\")"
   ]
  },
  {
   "cell_type": "code",
   "execution_count": 74,
   "metadata": {},
   "outputs": [
    {
     "data": {
      "text/plain": [
       "'thomas.ebermann'"
      ]
     },
     "execution_count": 74,
     "metadata": {},
     "output_type": "execute_result"
    }
   ],
   "source": [
    "email = \"thomas.ebermann@liip.ch\"\n",
    "email_gesplitted = email.split(\"@\")\n",
    "erster_teil = email_gesplitted[0]\n",
    "erster_teil"
   ]
  },
  {
   "cell_type": "markdown",
   "metadata": {},
   "source": [
    "## Übung 3\n",
    "\n",
    "Aktuell legen alle Kunden (`mail1`, `mail2`, `mail3`) als separate Variable vor. Wir möchten daraus jetzt eine Liste bauen, sodass wir die Möglichkeit hätten, später noch weitere Kunden in diese Liste hinzuzufügen.\n",
    "\n",
    "Überführe deswegen die Kunden `mail1`, `mail2` und `mail3` in die Liste `clients` und lasse dir anschließend die Anzahl der Elemente der Liste `clients` mit Hilfe von Python ausgeben."
   ]
  },
  {
   "cell_type": "code",
   "execution_count": 93,
   "metadata": {},
   "outputs": [
    {
     "name": "stdout",
     "output_type": "stream",
     "text": [
      "Wir haben aktuell 3 Kunden im System. \n",
      "Das sind:\n",
      "zarah.zauber\n",
      "thomas.plotkowiak\n",
      "uwe_unhold\n"
     ]
    }
   ],
   "source": [
    "mail1 = \"zarah.zauber@zauberberg.de\"\n",
    "mail2 = \"thomas.plotkowiak@gmail.com\"\n",
    "mail3 = \"uwe_unhold@dunklerwald.de\" \n",
    "\n",
    "clients = []\n",
    "clients.append(mail1.split(\"@\")[0])\n",
    "clients.append(mail2.split(\"@\")[0])\n",
    "clients.append(mail3.split(\"@\")[0])\n",
    "\n",
    "# Füge hier mail1, mail2, mail3 zur clients - Liste hinzu \n",
    "# Zähle wieviele elemente die liste hat.\n",
    "print(\"Wir haben aktuell \" + str(len(clients)) + \" Kunden im System. \\nDas sind:\\n\" + \"\\n\".join(clients))"
   ]
  }
 ],
 "metadata": {
  "kernelspec": {
   "display_name": "Python 3",
   "language": "python",
   "name": "python3"
  },
  "language_info": {
   "codemirror_mode": {
    "name": "ipython",
    "version": 3
   },
   "file_extension": ".py",
   "mimetype": "text/x-python",
   "name": "python",
   "nbconvert_exporter": "python",
   "pygments_lexer": "ipython3",
   "version": "3.7.4"
  }
 },
 "nbformat": 4,
 "nbformat_minor": 2
}
